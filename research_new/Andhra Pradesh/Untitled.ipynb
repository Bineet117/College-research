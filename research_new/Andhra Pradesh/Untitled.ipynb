{
 "cells": [
  {
   "cell_type": "code",
   "execution_count": 3,
   "id": "d4cb6864-a598-4dbe-aeda-b102f1d4678a",
   "metadata": {},
   "outputs": [],
   "source": [
    "import pandas as pd  \n",
    "import os"
   ]
  },
  {
   "cell_type": "code",
   "execution_count": 11,
   "id": "9d53ec19-14f5-4947-a71f-821549f7ca76",
   "metadata": {},
   "outputs": [
    {
     "name": "stdout",
     "output_type": "stream",
     "text": [
      "Amravati\n",
      "Anantapur\n",
      "chittoor\n",
      "Rajamahendravaram\n",
      "tirumala_tirupati\n",
      "vijayvada\n",
      "visakapatnam\n",
      "Yerramukkapalli_kadapa\n"
     ]
    }
   ],
   "source": [
    "import os\n",
    "\n",
    "# Define the root folder (current directory since .ipynb is in 'Andhra Pradesh')\n",
    "root_folder = \".\"\n",
    "\n",
    "# List all city folders\n",
    "city_folders = [folder for folder in os.listdir(root_folder) if os.path.isdir(os.path.join(root_folder, folder))]\n",
    "\n",
    "for city in city_folders:\n",
    "    if city == \".ipynb_checkpoints\":\n",
    "        pass\n",
    "    else:\n",
    "        print(city)"
   ]
  },
  {
   "cell_type": "code",
   "execution_count": null,
   "id": "f6bcdca5-fcb4-40b8-946f-9b4594de6c6a",
   "metadata": {},
   "outputs": [],
   "source": []
  },
  {
   "cell_type": "code",
   "execution_count": null,
   "id": "57622a9d-0567-47f8-9f6f-d3b45389ea7a",
   "metadata": {},
   "outputs": [],
   "source": []
  }
 ],
 "metadata": {
  "kernelspec": {
   "display_name": "Python 3 (ipykernel)",
   "language": "python",
   "name": "python3"
  },
  "language_info": {
   "codemirror_mode": {
    "name": "ipython",
    "version": 3
   },
   "file_extension": ".py",
   "mimetype": "text/x-python",
   "name": "python",
   "nbconvert_exporter": "python",
   "pygments_lexer": "ipython3",
   "version": "3.12.7"
  }
 },
 "nbformat": 4,
 "nbformat_minor": 5
}
